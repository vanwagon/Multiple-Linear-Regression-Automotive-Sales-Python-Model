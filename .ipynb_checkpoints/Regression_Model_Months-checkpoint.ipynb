{
 "cells": [
  {
   "cell_type": "code",
   "execution_count": 349,
   "id": "12b5c192",
   "metadata": {},
   "outputs": [],
   "source": [
    "import pandas as pd\n",
    "import numpy as np\n",
    "from sklearn.linear_model import LinearRegression\n",
    "from sklearn.metrics import r2_score\n",
    "from sklearn.metrics import mean_squared_error\n",
    "import matplotlib.pyplot as plt"
   ]
  },
  {
   "cell_type": "code",
   "execution_count": 350,
   "id": "351d5d43",
   "metadata": {},
   "outputs": [],
   "source": [
    "# Load the data from the CSV file\n",
    "data = pd.read_csv('advertising_data.csv')\n"
   ]
  },
  {
   "cell_type": "code",
   "execution_count": 351,
   "id": "2a354d85",
   "metadata": {},
   "outputs": [],
   "source": [
    "# Convert the Month_year column to datetime and extract month and year as separate columns\n",
    "data['Month_year'] = pd.to_datetime(data['Month_year'], format='%Y-%m')\n",
    "data['Month'] = data['Month_year'].dt.month\n",
    "data['Year'] = data['Month_year'].dt.year"
   ]
  },
  {
   "cell_type": "code",
   "execution_count": 352,
   "id": "2f5ec9a1",
   "metadata": {},
   "outputs": [],
   "source": [
    "# Create dummy variables for the month column -- this will help it account for seasonality\n",
    "dummy_cols = pd.get_dummies(data['Month'], prefix='Month')"
   ]
  },
  {
   "cell_type": "code",
   "execution_count": 353,
   "id": "c83d2230",
   "metadata": {
    "scrolled": true
   },
   "outputs": [
    {
     "data": {
      "text/html": [
       "<div>\n",
       "<style scoped>\n",
       "    .dataframe tbody tr th:only-of-type {\n",
       "        vertical-align: middle;\n",
       "    }\n",
       "\n",
       "    .dataframe tbody tr th {\n",
       "        vertical-align: top;\n",
       "    }\n",
       "\n",
       "    .dataframe thead th {\n",
       "        text-align: right;\n",
       "    }\n",
       "</style>\n",
       "<table border=\"1\" class=\"dataframe\">\n",
       "  <thead>\n",
       "    <tr style=\"text-align: right;\">\n",
       "      <th></th>\n",
       "      <th>Month_year</th>\n",
       "      <th>Budget</th>\n",
       "      <th>Traffic_Visits</th>\n",
       "      <th>Shopping_Visits</th>\n",
       "      <th>shopping_Rate</th>\n",
       "      <th>Unnamed: 5</th>\n",
       "      <th>Month</th>\n",
       "      <th>Year</th>\n",
       "      <th>Month_1</th>\n",
       "      <th>Month_2</th>\n",
       "      <th>Month_3</th>\n",
       "      <th>Month_4</th>\n",
       "      <th>Month_5</th>\n",
       "      <th>Month_6</th>\n",
       "      <th>Month_7</th>\n",
       "      <th>Month_8</th>\n",
       "      <th>Month_9</th>\n",
       "      <th>Month_10</th>\n",
       "      <th>Month_11</th>\n",
       "      <th>Month_12</th>\n",
       "    </tr>\n",
       "  </thead>\n",
       "  <tbody>\n",
       "    <tr>\n",
       "      <th>0</th>\n",
       "      <td>2022-04-01</td>\n",
       "      <td>182097.1045</td>\n",
       "      <td>41112</td>\n",
       "      <td>31158</td>\n",
       "      <td>0.0060</td>\n",
       "      <td>NaN</td>\n",
       "      <td>4</td>\n",
       "      <td>2022</td>\n",
       "      <td>0</td>\n",
       "      <td>0</td>\n",
       "      <td>0</td>\n",
       "      <td>1</td>\n",
       "      <td>0</td>\n",
       "      <td>0</td>\n",
       "      <td>0</td>\n",
       "      <td>0</td>\n",
       "      <td>0</td>\n",
       "      <td>0</td>\n",
       "      <td>0</td>\n",
       "      <td>0</td>\n",
       "    </tr>\n",
       "    <tr>\n",
       "      <th>1</th>\n",
       "      <td>2022-05-01</td>\n",
       "      <td>203678.9720</td>\n",
       "      <td>46976</td>\n",
       "      <td>35475</td>\n",
       "      <td>0.0068</td>\n",
       "      <td>NaN</td>\n",
       "      <td>5</td>\n",
       "      <td>2022</td>\n",
       "      <td>0</td>\n",
       "      <td>0</td>\n",
       "      <td>0</td>\n",
       "      <td>0</td>\n",
       "      <td>1</td>\n",
       "      <td>0</td>\n",
       "      <td>0</td>\n",
       "      <td>0</td>\n",
       "      <td>0</td>\n",
       "      <td>0</td>\n",
       "      <td>0</td>\n",
       "      <td>0</td>\n",
       "    </tr>\n",
       "    <tr>\n",
       "      <th>2</th>\n",
       "      <td>2022-06-01</td>\n",
       "      <td>575099.4192</td>\n",
       "      <td>62730</td>\n",
       "      <td>44691</td>\n",
       "      <td>0.0023</td>\n",
       "      <td>NaN</td>\n",
       "      <td>6</td>\n",
       "      <td>2022</td>\n",
       "      <td>0</td>\n",
       "      <td>0</td>\n",
       "      <td>0</td>\n",
       "      <td>0</td>\n",
       "      <td>0</td>\n",
       "      <td>1</td>\n",
       "      <td>0</td>\n",
       "      <td>0</td>\n",
       "      <td>0</td>\n",
       "      <td>0</td>\n",
       "      <td>0</td>\n",
       "      <td>0</td>\n",
       "    </tr>\n",
       "    <tr>\n",
       "      <th>3</th>\n",
       "      <td>2022-07-01</td>\n",
       "      <td>718704.5380</td>\n",
       "      <td>268470</td>\n",
       "      <td>49626</td>\n",
       "      <td>0.0021</td>\n",
       "      <td>NaN</td>\n",
       "      <td>7</td>\n",
       "      <td>2022</td>\n",
       "      <td>0</td>\n",
       "      <td>0</td>\n",
       "      <td>0</td>\n",
       "      <td>0</td>\n",
       "      <td>0</td>\n",
       "      <td>0</td>\n",
       "      <td>1</td>\n",
       "      <td>0</td>\n",
       "      <td>0</td>\n",
       "      <td>0</td>\n",
       "      <td>0</td>\n",
       "      <td>0</td>\n",
       "    </tr>\n",
       "    <tr>\n",
       "      <th>4</th>\n",
       "      <td>2022-08-01</td>\n",
       "      <td>564727.5561</td>\n",
       "      <td>70983</td>\n",
       "      <td>48114</td>\n",
       "      <td>0.0021</td>\n",
       "      <td>NaN</td>\n",
       "      <td>8</td>\n",
       "      <td>2022</td>\n",
       "      <td>0</td>\n",
       "      <td>0</td>\n",
       "      <td>0</td>\n",
       "      <td>0</td>\n",
       "      <td>0</td>\n",
       "      <td>0</td>\n",
       "      <td>0</td>\n",
       "      <td>1</td>\n",
       "      <td>0</td>\n",
       "      <td>0</td>\n",
       "      <td>0</td>\n",
       "      <td>0</td>\n",
       "    </tr>\n",
       "  </tbody>\n",
       "</table>\n",
       "</div>"
      ],
      "text/plain": [
       "  Month_year       Budget  Traffic_Visits  Shopping_Visits  shopping_Rate  \\\n",
       "0 2022-04-01  182097.1045           41112            31158         0.0060   \n",
       "1 2022-05-01  203678.9720           46976            35475         0.0068   \n",
       "2 2022-06-01  575099.4192           62730            44691         0.0023   \n",
       "3 2022-07-01  718704.5380          268470            49626         0.0021   \n",
       "4 2022-08-01  564727.5561           70983            48114         0.0021   \n",
       "\n",
       "   Unnamed: 5  Month  Year  Month_1  Month_2  Month_3  Month_4  Month_5  \\\n",
       "0         NaN      4  2022        0        0        0        1        0   \n",
       "1         NaN      5  2022        0        0        0        0        1   \n",
       "2         NaN      6  2022        0        0        0        0        0   \n",
       "3         NaN      7  2022        0        0        0        0        0   \n",
       "4         NaN      8  2022        0        0        0        0        0   \n",
       "\n",
       "   Month_6  Month_7  Month_8  Month_9  Month_10  Month_11  Month_12  \n",
       "0        0        0        0        0         0         0         0  \n",
       "1        0        0        0        0         0         0         0  \n",
       "2        1        0        0        0         0         0         0  \n",
       "3        0        1        0        0         0         0         0  \n",
       "4        0        0        1        0         0         0         0  "
      ]
     },
     "metadata": {},
     "output_type": "display_data"
    }
   ],
   "source": [
    "# Combine the dummy variables with the original data\n",
    "data = pd.concat([data, dummy_cols], axis=1)\n",
    "display(data.head(5))"
   ]
  },
  {
   "cell_type": "code",
   "execution_count": 354,
   "id": "0a223bc8",
   "metadata": {},
   "outputs": [],
   "source": [
    "#exclude JULY 2022\n",
    "data = data[data['Month_year'] != pd.to_datetime('2022-07-01')]"
   ]
  },
  {
   "cell_type": "code",
   "execution_count": 355,
   "id": "673ec1f1",
   "metadata": {},
   "outputs": [],
   "source": [
    "# Split the data into X (predictors) and y (target variables)\n",
    "X = data[['Budget'] + list(dummy_cols.columns)]\n",
    "y_traffic = data[['Traffic_Visits']]\n",
    "y_shopping_visits = data[['Shopping_Visits']]\n",
    "y_shopping_rate = data[['shopping_Rate']]"
   ]
  },
  {
   "cell_type": "code",
   "execution_count": 356,
   "id": "7f57feef",
   "metadata": {},
   "outputs": [],
   "source": [
    "model_traffic = LinearRegression()\n",
    "model_shopping_visits = LinearRegression()\n",
    "model_shopping_rate = LinearRegression()"
   ]
  },
  {
   "cell_type": "code",
   "execution_count": 357,
   "id": "1d24caaa",
   "metadata": {},
   "outputs": [
    {
     "data": {
      "text/html": [
       "<style>#sk-container-id-15 {color: black;background-color: white;}#sk-container-id-15 pre{padding: 0;}#sk-container-id-15 div.sk-toggleable {background-color: white;}#sk-container-id-15 label.sk-toggleable__label {cursor: pointer;display: block;width: 100%;margin-bottom: 0;padding: 0.3em;box-sizing: border-box;text-align: center;}#sk-container-id-15 label.sk-toggleable__label-arrow:before {content: \"▸\";float: left;margin-right: 0.25em;color: #696969;}#sk-container-id-15 label.sk-toggleable__label-arrow:hover:before {color: black;}#sk-container-id-15 div.sk-estimator:hover label.sk-toggleable__label-arrow:before {color: black;}#sk-container-id-15 div.sk-toggleable__content {max-height: 0;max-width: 0;overflow: hidden;text-align: left;background-color: #f0f8ff;}#sk-container-id-15 div.sk-toggleable__content pre {margin: 0.2em;color: black;border-radius: 0.25em;background-color: #f0f8ff;}#sk-container-id-15 input.sk-toggleable__control:checked~div.sk-toggleable__content {max-height: 200px;max-width: 100%;overflow: auto;}#sk-container-id-15 input.sk-toggleable__control:checked~label.sk-toggleable__label-arrow:before {content: \"▾\";}#sk-container-id-15 div.sk-estimator input.sk-toggleable__control:checked~label.sk-toggleable__label {background-color: #d4ebff;}#sk-container-id-15 div.sk-label input.sk-toggleable__control:checked~label.sk-toggleable__label {background-color: #d4ebff;}#sk-container-id-15 input.sk-hidden--visually {border: 0;clip: rect(1px 1px 1px 1px);clip: rect(1px, 1px, 1px, 1px);height: 1px;margin: -1px;overflow: hidden;padding: 0;position: absolute;width: 1px;}#sk-container-id-15 div.sk-estimator {font-family: monospace;background-color: #f0f8ff;border: 1px dotted black;border-radius: 0.25em;box-sizing: border-box;margin-bottom: 0.5em;}#sk-container-id-15 div.sk-estimator:hover {background-color: #d4ebff;}#sk-container-id-15 div.sk-parallel-item::after {content: \"\";width: 100%;border-bottom: 1px solid gray;flex-grow: 1;}#sk-container-id-15 div.sk-label:hover label.sk-toggleable__label {background-color: #d4ebff;}#sk-container-id-15 div.sk-serial::before {content: \"\";position: absolute;border-left: 1px solid gray;box-sizing: border-box;top: 0;bottom: 0;left: 50%;z-index: 0;}#sk-container-id-15 div.sk-serial {display: flex;flex-direction: column;align-items: center;background-color: white;padding-right: 0.2em;padding-left: 0.2em;position: relative;}#sk-container-id-15 div.sk-item {position: relative;z-index: 1;}#sk-container-id-15 div.sk-parallel {display: flex;align-items: stretch;justify-content: center;background-color: white;position: relative;}#sk-container-id-15 div.sk-item::before, #sk-container-id-15 div.sk-parallel-item::before {content: \"\";position: absolute;border-left: 1px solid gray;box-sizing: border-box;top: 0;bottom: 0;left: 50%;z-index: -1;}#sk-container-id-15 div.sk-parallel-item {display: flex;flex-direction: column;z-index: 1;position: relative;background-color: white;}#sk-container-id-15 div.sk-parallel-item:first-child::after {align-self: flex-end;width: 50%;}#sk-container-id-15 div.sk-parallel-item:last-child::after {align-self: flex-start;width: 50%;}#sk-container-id-15 div.sk-parallel-item:only-child::after {width: 0;}#sk-container-id-15 div.sk-dashed-wrapped {border: 1px dashed gray;margin: 0 0.4em 0.5em 0.4em;box-sizing: border-box;padding-bottom: 0.4em;background-color: white;}#sk-container-id-15 div.sk-label label {font-family: monospace;font-weight: bold;display: inline-block;line-height: 1.2em;}#sk-container-id-15 div.sk-label-container {text-align: center;}#sk-container-id-15 div.sk-container {/* jupyter's `normalize.less` sets `[hidden] { display: none; }` but bootstrap.min.css set `[hidden] { display: none !important; }` so we also need the `!important` here to be able to override the default hidden behavior on the sphinx rendered scikit-learn.org. See: https://github.com/scikit-learn/scikit-learn/issues/21755 */display: inline-block !important;position: relative;}#sk-container-id-15 div.sk-text-repr-fallback {display: none;}</style><div id=\"sk-container-id-15\" class=\"sk-top-container\"><div class=\"sk-text-repr-fallback\"><pre>LinearRegression()</pre><b>In a Jupyter environment, please rerun this cell to show the HTML representation or trust the notebook. <br />On GitHub, the HTML representation is unable to render, please try loading this page with nbviewer.org.</b></div><div class=\"sk-container\" hidden><div class=\"sk-item\"><div class=\"sk-estimator sk-toggleable\"><input class=\"sk-toggleable__control sk-hidden--visually\" id=\"sk-estimator-id-15\" type=\"checkbox\" checked><label for=\"sk-estimator-id-15\" class=\"sk-toggleable__label sk-toggleable__label-arrow\">LinearRegression</label><div class=\"sk-toggleable__content\"><pre>LinearRegression()</pre></div></div></div></div></div>"
      ],
      "text/plain": [
       "LinearRegression()"
      ]
     },
     "execution_count": 357,
     "metadata": {},
     "output_type": "execute_result"
    }
   ],
   "source": [
    "model_traffic.fit(X, y_traffic)\n",
    "model_shopping_visits.fit(X, y_shopping_visits)\n",
    "model_shopping_rate.fit(X, y_shopping_rate)"
   ]
  },
  {
   "cell_type": "code",
   "execution_count": 358,
   "id": "11a4161f",
   "metadata": {},
   "outputs": [
    {
     "name": "stdout",
     "output_type": "stream",
     "text": [
      "\n",
      "Formula for Traffic_Visits : y = 25314.89 + 0.08*Budget + -1939.33*Month_1 + -7957.94*Month_2 + -1564.62*Month_3 + -2470.06*Month_4 + 6336.05*Month_5 + 2984.25*Month_6 + -3945.65*Month_7 + 3892.12*Month_8 + 6453.98*Month_9 + 816.52*Month_10 + 292.92*Month_11 + -2898.24*Month_12\n",
      "\n",
      "Formula for Shopping_Visits : y = 24492.20 + 0.04*Budget + -2426.67*Month_1 + -7007.76*Month_2 + 5043.55*Month_3 + -3461.19*Month_4 + 3467.38*Month_5 + 3299.56*Month_6 + -2899.27*Month_7 + 2177.04*Month_8 + 2172.16*Month_9 + -230.06*Month_10 + -1540.39*Month_11 + 1405.66*Month_12\n",
      "\n",
      "Formula for shopping_Rate : y = 0.01 + -0.00*Budget + 0.00*Month_1 + 0.00*Month_2 + 0.00*Month_3 + -0.00*Month_4 + -0.00*Month_5 + -0.00*Month_6 + -0.00*Month_7 + 0.00*Month_8 + -0.00*Month_9 + -0.00*Month_10 + -0.00*Month_11 + 0.00*Month_12\n"
     ]
    }
   ],
   "source": [
    "formulas = []\n",
    "for i, (model, col) in enumerate(zip([model_traffic, model_shopping_visits, model_shopping_rate], y.columns)):\n",
    "    formula = 'y = {:.2f} + {:.2f}*Budget'.format(model.intercept_[0], model.coef_[0][0])\n",
    "    for j, dummy_col in enumerate(dummy_cols.columns):\n",
    "        formula += ' + {:.2f}*{}'.format(model.coef_[0][j+1], dummy_col)\n",
    "    formulas.append(formula)\n",
    "    print()\n",
    "    print('Formula for', col, ':', formula)\n"
   ]
  },
  {
   "cell_type": "code",
   "execution_count": 359,
   "id": "8a6ea296",
   "metadata": {},
   "outputs": [
    {
     "name": "stdout",
     "output_type": "stream",
     "text": [
      "Traffic_Visits\n",
      "R-squared: 0.6527183333682178\n",
      "MSE: 91903653.60671604 \n",
      "\n",
      "Shopping_Visits\n",
      "R-squared: 0.6926967221868607\n",
      "MSE: 24157925.607173547 \n",
      "\n",
      "shopping_Rate\n",
      "R-squared: 0.7037837461070323\n",
      "MSE: 7.373784794916094e-07 \n",
      "\n"
     ]
    }
   ],
   "source": [
    "# Make predictions on the data and calculate metrics for each target variable\n",
    "for i, (model, col) in enumerate(zip([model_traffic, model_shopping_visits, model_shopping_rate], y.columns)):\n",
    "    y_pred = model.predict(X)\n",
    "    print(col)\n",
    "    print('R-squared:', r2_score(y[col], y_pred))\n",
    "    print('MSE:', mean_squared_error(y[col], y_pred), '\\n')"
   ]
  },
  {
   "cell_type": "code",
   "execution_count": null,
   "id": "091888e9",
   "metadata": {},
   "outputs": [],
   "source": []
  },
  {
   "cell_type": "code",
   "execution_count": 360,
   "id": "63568eec",
   "metadata": {},
   "outputs": [],
   "source": [
    "# Forecast for the next 12 months based on the available budget\n",
    "#future_budget = pd.DataFrame({'Budget': [5000]*12})\n",
    "#future_months = pd.date_range(start='2023-04-01', end='2024-03-01', freq='MS')\n",
    "#future_dummy_cols = pd.get_dummies(future_months.month, prefix='Month')\n",
    "#future_X = pd.concat([future_budget, future_dummy_cols], axis=1)\n",
    "#future_y_pred = model.predict(future_X)"
   ]
  },
  {
   "cell_type": "code",
   "execution_count": 361,
   "id": "e180583b",
   "metadata": {},
   "outputs": [
    {
     "data": {
      "text/html": [
       "<div>\n",
       "<style scoped>\n",
       "    .dataframe tbody tr th:only-of-type {\n",
       "        vertical-align: middle;\n",
       "    }\n",
       "\n",
       "    .dataframe tbody tr th {\n",
       "        vertical-align: top;\n",
       "    }\n",
       "\n",
       "    .dataframe thead th {\n",
       "        text-align: right;\n",
       "    }\n",
       "</style>\n",
       "<table border=\"1\" class=\"dataframe\">\n",
       "  <thead>\n",
       "    <tr style=\"text-align: right;\">\n",
       "      <th></th>\n",
       "      <th>Month_year</th>\n",
       "      <th>Traffic_Visits</th>\n",
       "      <th>Shopping_Visits</th>\n",
       "      <th>shopping_Rate</th>\n",
       "    </tr>\n",
       "  </thead>\n",
       "  <tbody>\n",
       "    <tr>\n",
       "      <th>0</th>\n",
       "      <td>2023-04-01</td>\n",
       "      <td>41533.068161</td>\n",
       "      <td>30806.276825</td>\n",
       "      <td>0.004132</td>\n",
       "    </tr>\n",
       "    <tr>\n",
       "      <th>1</th>\n",
       "      <td>2023-05-01</td>\n",
       "      <td>50962.166555</td>\n",
       "      <td>38060.710017</td>\n",
       "      <td>0.004313</td>\n",
       "    </tr>\n",
       "    <tr>\n",
       "      <th>2</th>\n",
       "      <td>2023-06-01</td>\n",
       "      <td>46987.378959</td>\n",
       "      <td>37567.027100</td>\n",
       "      <td>0.003685</td>\n",
       "    </tr>\n",
       "    <tr>\n",
       "      <th>3</th>\n",
       "      <td>2023-07-01</td>\n",
       "      <td>40680.466996</td>\n",
       "      <td>31694.055379</td>\n",
       "      <td>0.003544</td>\n",
       "    </tr>\n",
       "    <tr>\n",
       "      <th>4</th>\n",
       "      <td>2023-08-01</td>\n",
       "      <td>48525.084704</td>\n",
       "      <td>36773.946102</td>\n",
       "      <td>0.004471</td>\n",
       "    </tr>\n",
       "    <tr>\n",
       "      <th>5</th>\n",
       "      <td>2023-09-01</td>\n",
       "      <td>50457.114485</td>\n",
       "      <td>36439.619560</td>\n",
       "      <td>0.004334</td>\n",
       "    </tr>\n",
       "    <tr>\n",
       "      <th>6</th>\n",
       "      <td>2023-10-01</td>\n",
       "      <td>45442.634513</td>\n",
       "      <td>34363.263010</td>\n",
       "      <td>0.004127</td>\n",
       "    </tr>\n",
       "    <tr>\n",
       "      <th>7</th>\n",
       "      <td>2023-11-01</td>\n",
       "      <td>44296.055876</td>\n",
       "      <td>32727.077103</td>\n",
       "      <td>0.003898</td>\n",
       "    </tr>\n",
       "    <tr>\n",
       "      <th>8</th>\n",
       "      <td>2023-12-01</td>\n",
       "      <td>41727.880741</td>\n",
       "      <td>35998.987094</td>\n",
       "      <td>0.004765</td>\n",
       "    </tr>\n",
       "    <tr>\n",
       "      <th>9</th>\n",
       "      <td>2024-01-01</td>\n",
       "      <td>42686.786401</td>\n",
       "      <td>32166.659639</td>\n",
       "      <td>0.004880</td>\n",
       "    </tr>\n",
       "    <tr>\n",
       "      <th>10</th>\n",
       "      <td>2024-02-01</td>\n",
       "      <td>35422.661799</td>\n",
       "      <td>26934.073033</td>\n",
       "      <td>0.004847</td>\n",
       "    </tr>\n",
       "    <tr>\n",
       "      <th>11</th>\n",
       "      <td>2024-03-01</td>\n",
       "      <td>43064.236569</td>\n",
       "      <td>39638.305132</td>\n",
       "      <td>0.005673</td>\n",
       "    </tr>\n",
       "  </tbody>\n",
       "</table>\n",
       "</div>"
      ],
      "text/plain": [
       "   Month_year  Traffic_Visits  Shopping_Visits  shopping_Rate\n",
       "0  2023-04-01    41533.068161     30806.276825       0.004132\n",
       "1  2023-05-01    50962.166555     38060.710017       0.004313\n",
       "2  2023-06-01    46987.378959     37567.027100       0.003685\n",
       "3  2023-07-01    40680.466996     31694.055379       0.003544\n",
       "4  2023-08-01    48525.084704     36773.946102       0.004471\n",
       "5  2023-09-01    50457.114485     36439.619560       0.004334\n",
       "6  2023-10-01    45442.634513     34363.263010       0.004127\n",
       "7  2023-11-01    44296.055876     32727.077103       0.003898\n",
       "8  2023-12-01    41727.880741     35998.987094       0.004765\n",
       "9  2024-01-01    42686.786401     32166.659639       0.004880\n",
       "10 2024-02-01    35422.661799     26934.073033       0.004847\n",
       "11 2024-03-01    43064.236569     39638.305132       0.005673"
      ]
     },
     "metadata": {},
     "output_type": "display_data"
    }
   ],
   "source": [
    "# Define a list of budget values for each of the 12 future months\n",
    "future_budget = [245700.30, 253890.86, 245700.30, 253890.86, 253980.86, 245700.3, 253890.86, 245700.3, 253890.86, 253890.86, 237515.72, 253926.86]\n",
    "\n",
    "# Create a DataFrame with the budget values and the corresponding months\n",
    "future_data = pd.DataFrame({'Month_year': pd.date_range(start='2023-04-01', end='2024-03-01', freq='MS'),\n",
    "                            'Budget': future_budget})\n",
    "\n",
    "# Extract the month and year as separate columns\n",
    "future_data['Month'] = future_data['Month_year'].dt.month\n",
    "future_data['Year'] = future_data['Month_year'].dt.year\n",
    "\n",
    "# Create dummy variables for the month column\n",
    "future_dummy_cols = pd.get_dummies(future_data['Month'], prefix='Month')\n",
    "\n",
    "# Combine the dummy variables with the budget values\n",
    "future_X = pd.concat([future_data[['Budget']], future_dummy_cols], axis=1)\n",
    "# Make predictions based on the future budget values for each target variable\n",
    "future_y_pred_traffic = model_traffic.predict(future_X)\n",
    "future_y_pred_shopping_visits = model_shopping_visits.predict(future_X)\n",
    "future_y_pred_shopping_rate = model_shopping_rate.predict(future_X)\n",
    "\n",
    "# Create a DataFrame with the predicted values and the corresponding months for each target variable\n",
    "future_df_traffic = pd.DataFrame({'Month_year': future_data['Month_year'], 'Traffic_Visits': future_y_pred_traffic[:,0]})\n",
    "future_df_shopping_visits = pd.DataFrame({'Month_year': future_data['Month_year'], 'Shopping_Visits': future_y_pred_shopping_visits[:,0]})\n",
    "future_df_shopping_rate = pd.DataFrame({'Month_year': future_data['Month_year'], 'shopping_Rate': future_y_pred_shopping_rate[:,0]})\n",
    "\n",
    "# Merge the separate DataFrames into a single DataFrame\n",
    "future_df = future_df_traffic.merge(future_df_shopping_visits, on='Month_year').merge(future_df_shopping_rate, on='Month_year')\n",
    "\n",
    "display(future_df)\n"
   ]
  },
  {
   "cell_type": "code",
   "execution_count": 346,
   "id": "570d59ab",
   "metadata": {},
   "outputs": [
    {
     "data": {
      "image/png": "[encoded data removed]",
      "text/plain": [
       "<Figure size 640x480 with 1 Axes>"
      ]
     },
     "metadata": {},
     "output_type": "display_data"
    }
   ],
   "source": [
    "# Plot the predicted values for Traffic_Visits\n",
    "from matplotlib import dates as mdates\n",
    "plt.figure()\n",
    "plt.scatter(data['Month_year'], data['Traffic_Visits'], color='blue')\n",
    "plt.plot(future_df['Month_year'], future_df['Traffic_Visits'], color='red')\n",
    "plt.title('Predicted Traffic Visits')\n",
    "plt.xlabel('Month')\n",
    "plt.ylabel('Traffic Visits')\n",
    "plt.gca().xaxis.set_major_formatter(mdates.DateFormatter('%y-%m'))\n",
    "plt.legend(['actual'])\n",
    "plt.show()\n"
   ]
  },
  {
   "cell_type": "code",
   "execution_count": 347,
   "id": "ab9f6e15",
   "metadata": {},
   "outputs": [
    {
     "data": {
      "image/png": "[encoded data removed]",
      "text/plain": [
       "<Figure size 640x480 with 1 Axes>"
      ]
     },
     "metadata": {},
     "output_type": "display_data"
    },
    {
     "name": "stdout",
     "output_type": "stream",
     "text": [
      "Past Average: 55819.09375\n",
      "Future Average: 44315.4613133117\n"
     ]
    }
   ],
   "source": [
    "# Calculate the average of past values\n",
    "past_avg = np.mean(data['Traffic_Visits'])\n",
    "\n",
    "# Calculate the average of future values\n",
    "future_avg = np.mean(future_df['Traffic_Visits'])\n",
    "\n",
    "# Plot the predicted values for Traffic_Visits\n",
    "plt.figure()\n",
    "plt.scatter(data['Month_year'], data['Traffic_Visits'], color='blue')\n",
    "plt.plot(future_df['Month_year'], future_df['Traffic_Visits'], color='red')\n",
    "plt.axhline(y=past_avg, color='green', linestyle='--')\n",
    "plt.axhline(y=future_avg, color='purple', linestyle='--')\n",
    "plt.title('Predicted Traffic Visits')\n",
    "plt.xlabel('Month')\n",
    "plt.ylabel('Traffic Visits')\n",
    "plt.gca().xaxis.set_major_formatter(mdates.DateFormatter('%y-%m'))\n",
    "plt.legend(['Actual', 'Predicted', 'Past Average', 'Future Average'])\n",
    "plt.show()\n",
    "\n",
    "# Print the average value\n",
    "print('Past Average:', past_avg)\n",
    "print('Future Average:', future_avg)"
   ]
  },
  {
   "cell_type": "code",
   "execution_count": 348,
   "id": "b7c2a857",
   "metadata": {},
   "outputs": [
    {
     "data": {
      "image/png": "[encoded data removed]",
      "text/plain": [
       "<Figure size 640x480 with 1 Axes>"
      ]
     },
     "metadata": {},
     "output_type": "display_data"
    }
   ],
   "source": [
    "# Plot the predicted values for Shopping_Visits\n",
    "plt.figure()\n",
    "plt.scatter(data['Month_year'], data['shopping_Rate'], color='green')\n",
    "plt.plot(future_df['Month_year'], future_df['shopping_Rate'], color='red')\n",
    "plt.title('Predicted Shopping Rate')\n",
    "plt.xlabel('Month')\n",
    "plt.ylabel('QSV Rate %')\n",
    "plt.gca().xaxis.set_major_formatter(mdates.DateFormatter('%y-%m'))\n",
    "plt.legend(['Actual'])\n",
    "plt.show()"
   ]
  },
  {
   "cell_type": "code",
   "execution_count": null,
   "id": "a9c08406",
   "metadata": {},
   "outputs": [],
   "source": []
  }
 ],
 "metadata": {
  "kernelspec": {
   "display_name": "Python 3 (ipykernel)",
   "language": "python",
   "name": "python3"
  },
  "language_info": {
   "codemirror_mode": {
    "name": "ipython",
    "version": 3
   },
   "file_extension": ".py",
   "mimetype": "text/x-python",
   "name": "python",
   "nbconvert_exporter": "python",
   "pygments_lexer": "ipython3",
   "version": "3.10.6"
  }
 },
 "nbformat": 4,
 "nbformat_minor": 5
}
